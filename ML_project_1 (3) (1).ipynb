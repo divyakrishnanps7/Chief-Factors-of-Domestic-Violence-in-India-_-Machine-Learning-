{
 "cells": [
  {
   "cell_type": "markdown",
   "metadata": {},
   "source": [
    "#### import packages"
   ]
  },
  {
   "cell_type": "code",
   "execution_count": 1,
   "metadata": {},
   "outputs": [],
   "source": [
    "# importing python packages\n",
    "import pandas as pd\n",
    "import numpy as np\n",
    "import matplotlib.pyplot as plt\n",
    "import seaborn as sns\n",
    "import math\n",
    "from sklearn.model_selection import train_test_split\n",
    "import sklearn.linear_model as skl_lm\n",
    "from sklearn.metrics import accuracy_score\n",
    "from sklearn.metrics import mean_squared_error\n",
    "from sklearn.model_selection import train_test_split, LeaveOneOut, KFold, cross_val_score\n",
    "from sklearn.preprocessing import PolynomialFeatures\n",
    "from sklearn.linear_model import LogisticRegression\n",
    "from sklearn.ensemble import RandomForestClassifier\n",
    "from sklearn import preprocessing\n",
    "from sklearn.utils import shuffle\n",
    "from sklearn.svm import SVC\n",
    "from sklearn import linear_model\n",
    "from sklearn.linear_model import Ridge,RidgeCV,Lasso,LassoCV\n",
    "from sklearn.linear_model import ElasticNetCV\n",
    "from sklearn.linear_model import LogisticRegressionCV\n",
    "from sklearn.linear_model import ElasticNet\n",
    "import warnings\n",
    "warnings.filterwarnings(\"ignore\")\n",
    "\n",
    "%matplotlib inline"
   ]
  },
  {
   "cell_type": "markdown",
   "metadata": {},
   "source": [
    "#### load data"
   ]
  },
  {
   "cell_type": "code",
   "execution_count": 15,
   "metadata": {},
   "outputs": [],
   "source": [
    "sml_data = pd.read_excel(\"C:\\\\Users\\\\Divya Krishnan\\\\Desktop\\\\ew2.xlsx\")\n"
   ]
  },
  {
   "cell_type": "code",
   "execution_count": 16,
   "metadata": {},
   "outputs": [],
   "source": [
    "sml_data = sml_data.drop(['EQ20 14.15d Fa-in-law educ','EQ20 14.18a Brother highest educ','EQ20 14.18b Sister highest educ',\n",
    "               'EQ20 14.18d Sister-in-law highest educ', 'EQ20 14.18c Brother-in-law highest educ'],axis =1)\n",
    "sml_data = sml_data.fillna(12)"
   ]
  },
  {
   "cell_type": "code",
   "execution_count": 17,
   "metadata": {
    "scrolled": true
   },
   "outputs": [
    {
     "name": "stdout",
     "output_type": "stream",
     "text": [
      "Thresh:  1 percentage:  0.8916580219112922\n",
      "Thresh:  2 percentage:  0.6757078157022494\n",
      "Thresh:  3 percentage:  0.5019355818131215\n",
      "Thresh:  4 percentage:  0.3758317941451813\n",
      "Thresh:  5 percentage:  0.27032360903777547\n"
     ]
    }
   ],
   "source": [
    "#preparing repose variable\n",
    "Y_matrix = sml_data.loc[:,['EQ25 17.34 Beat leaves no permit','EQ25 17.35 Beat if extramarital','EQ25 17.36 Beat if no dowry','EQ25 17.37 Beat if House neglect','EQ25 17.38 Beat if not respectful','EQ25 17.39 Beat if bad cooking']]\n",
    "Y_matrix = Y_matrix.replace(2, 0);\n",
    "Y = np.sum(Y_matrix,axis = 1)\n",
    "for thresh in np.arange(1, 6):\n",
    "    Y_new = (Y >= thresh).astype(float)\n",
    "    print('Thresh: ', thresh, 'percentage: ', np.mean(Y_new))\n"
   ]
  },
  {
   "cell_type": "code",
   "execution_count": 18,
   "metadata": {},
   "outputs": [
    {
     "name": "stdout",
     "output_type": "stream",
     "text": [
      "0.5019355818131215\n"
     ]
    }
   ],
   "source": [
    "Y = (Y >= 3).astype(int)\n",
    "print(np.mean(Y))\n",
    "sml_data['Beat'] = Y"
   ]
  },
  {
   "cell_type": "markdown",
   "metadata": {},
   "source": [
    "#### raddomly selecting 1000 datapoints from data"
   ]
  },
  {
   "cell_type": "code",
   "execution_count": 19,
   "metadata": {},
   "outputs": [],
   "source": [
    "#beat_yes= (data.loc[data['Beat'] == 0])\n",
    "#beat_no =  (data.loc[data['Beat'] == 1])\n",
    "#sample_yes =beat_yes.sample(n=500, random_state=2)\n",
    "#sample_no =beat_no.sample(n=500, random_state=2)\n",
    "#sml_data = pd.concat([sample_no,sample_yes], axis = 0)\n",
    "#sml_data = shuffle(sml_data)\n",
    "\n"
   ]
  },
  {
   "cell_type": "code",
   "execution_count": 20,
   "metadata": {},
   "outputs": [],
   "source": [
    "response = sml_data[\"Beat\"]\n"
   ]
  },
  {
   "cell_type": "code",
   "execution_count": 21,
   "metadata": {},
   "outputs": [
    {
     "data": {
      "text/plain": [
       "(39523,)"
      ]
     },
     "execution_count": 21,
     "metadata": {},
     "output_type": "execute_result"
    }
   ],
   "source": [
    "response.shape"
   ]
  },
  {
   "cell_type": "markdown",
   "metadata": {},
   "source": [
    "#### condensing features"
   ]
  },
  {
   "cell_type": "code",
   "execution_count": 102,
   "metadata": {},
   "outputs": [],
   "source": [
    "x_education = sml_data.loc[:,[\n",
    " 'MO Education',\n",
    " 'Fa Education',\n",
    "'Brother-in-Law Highest Education',\n",
    "'Sis-in-law highest edu',\n",
    "'Fa-in-Law Education',\n",
    "'Mo-in-law Education']]\n",
    "x_education = x_education.replace(6, 0);\n",
    "x_education_all = np.sum(x_education,axis =1)\n",
    "\n",
    "x_visit = sml_data.loc[:,[ 'EQ23 17.9f Visit health centre alone',\n",
    " 'EQ23 17.10f Visit Friend home alone',\n",
    " 'EQ23 17.11f Visit Kirana shop alone',\n",
    " 'EQ23 17.12f Bus trip alone',\n",
    "]]\n",
    "x_visit= x_visit.replace(2, 0)\n",
    "x_visit_all = np.sum(x_visit,axis =1)\n",
    "\n",
    "\n",
    "x_decision = sml_data.loc[:,[ 'Cooking Most Say',\n",
    " 'EQ22 17.4g If sick Most Say',\n",
    " 'EQ22 17.5g Buy land Most Say',\n",
    " 'EQ22 17.6g Wedding expense Most Say']]\n",
    "x_decision_frequent = x_decision.mode(axis = 1)[0]\n",
    "x_decision_frequent = x_decision_frequent.replace(2, 0)\n",
    "x_decision_frequent = x_decision_frequent.replace(3, 0)\n",
    "x_decision_frequent = x_decision_frequent.replace(4, 0)\n",
    "x_decision_frequent = x_decision_frequent.replace(5, 0)\n",
    "x_decision_frequent =x_decision_frequent.replace(6, 0)\n",
    "\n",
    "\n",
    "\n",
    "x_service = sml_data.loc[:,['EQ23 17.18a Member Mahila Mandal',\n",
    " 'EQ23 17.18b Member Self-help',\n",
    " 'EQ23 17.18c Member Savings group',\n",
    " 'EQ23 17.18d Member Political org',\n",
    " 'EQ23 17.19 Attended panchayat']]\n",
    "x_service= x_service.replace(2, 0)\n",
    "x_service_frequent = np.sum(x_service,axis = 1)\n",
    "\n",
    "\n",
    "\n",
    "x_children_decision = sml_data.loc[:,[ 'EQ22 17.7g Child ill Most Say',\n",
    "   'Children Most Say',\n",
    "   'EQ22 17.8g Childs wed Most Say' ]]\n",
    "x_children_decision = x_children_decision.replace(2, 0)\n",
    "x_children_decision = x_children_decision.replace(3, 0)\n",
    "x_children_decision = x_children_decision.replace(4, 0)\n",
    "x_children_decision = x_children_decision.replace(5, 0)\n",
    "x_children_decision = x_children_decision.replace(6, 0)\n",
    "x_children_decision_frequent = x_children_decision.mode(axis = 1)[0]\n",
    "\n",
    "x_work =  sml_data.loc[:,[   \n",
    " 'EQ25 17.48 Willing to work',\n",
    "'EQ25 17.49 Allowed to work'\n",
    "]]\n",
    "x_work = x_work.replace(2, 0)\n",
    "x_work_sum = np.sum(x_work,axis =1)\n",
    "\n",
    "\n",
    "X_quant = sml_data.loc[:,[\n",
    "'EQ26 18.1a Age at marriage']]\n",
    "\n",
    "x_people_hh = sml_data.loc[:,[\n",
    "    'EQ20 14.13a Mo in hh',\n",
    "    'EQ20 14.13b Fa in hh',\n",
    "    'EQ20 14.13c Mo-in-law in hh',\n",
    "    'EQ20 14.13d Fa-in-law in hh']]\n",
    "\n",
    "x_people_hh = x_people_hh.replace(2, 0)\n",
    "x_people_hh = x_people_hh.replace(3, 0)\n",
    "x_people_hh = x_people_hh.replace(4, 0)\n",
    "x_people_hh_all = np.sum(x_people_hh,axis =1)\n",
    "\n",
    "\n",
    "x_contact =  sml_data.loc[:,[ 'EQ26 18.5a Had met husband',\n",
    " 'EQ26 18.5b Had talked to husband',\n",
    " 'EQ26 18.5c Had seen husband photo',\n",
    " 'EQ26 18.5d Had emailed husband',\n",
    "'EQ26 18.3 Knew husb before wed']]\n",
    "x_contact = x_contact.replace(2, 0)\n",
    "x_contact_sum = np.sum(x_contact,axis =1)\n",
    "                       \n",
    "                       \n",
    "x_money = sml_data.loc[:,[ 'EQ24 17.26 Cash-in-hand',\n",
    " 'EQ25 17.46a Worked for NREGA',\n",
    " 'EQ24 17.27a Family bank account',\n",
    " 'EQ24 17.27b Resp account holder',\n",
    " 'EQ24 17.28 House papers: Woman',\n",
    " 'EQ25 17.46b Working for wage']]\n",
    "x_money_frequent = x_money.mode(axis = 1)[0]\n",
    "x_money_frequent = x_money_frequent.replace(2, 0)\n",
    "\n",
    "                                              \n",
    "x_discuss = sml_data.loc[:,[ 'EQ24 17.29a Discuss: Work/farm',\n",
    " 'EQ24 17.29b Discuss: Expenditure',\n",
    " 'EQ24 17.29c Discuss: Politics']]\n",
    "x_discuss_frequent = x_discuss.mode(axis = 1)[0]\n",
    "x_discuss_frequent = x_discuss_frequent.replace(2, 0);\n",
    "x_discuss_frequent = x_discuss_frequent.replace(3, 0);\n",
    "\n",
    "                       \n",
    "\n",
    "x_natal = sml_data.loc[:,[ 'EQ24 17.30 Natal family visit',\n",
    " 'EQ24 17.31 Natal family freq',\n",
    " 'EQ24 17.32 Natal family talk'\n",
    "'General Health of Indv.']]\n",
    "x_natal = x_natal.replace(6, 0);\n",
    "x_natal_frequent = x_natal.mode(axis = 1)[0]\n",
    "\n",
    "x_harass = sml_data['EQ25 17.45 Harassment of girls']\n",
    "x_harass = x_harass.replace(2, 0)\n",
    "x_harass = x_harass.replace(3, 0)\n",
    "x_harass = x_harass.replace(4, 0)\n",
    "                       \n",
    "x_connecting_outside = sml_data.loc[:,['EQ23 17.13 Been to metro city',\n",
    " 'EQ23 17.14 Been to a town',\n",
    " 'EQ23 17.16 Been to another stated',\n",
    " 'EQ23 17.17 Been abroad']]\n",
    "x_connecting_outside= x_connecting_outside.replace(2, 0)\n",
    "x_connecting_all = np.sum(x_connecting_outside,axis = 1)    \n",
    "\n",
    "x_purchase = sml_data['Purchase Most Say']\n",
    "x_purchase = x_purchase.replace(2, 0)\n",
    "x_purchase = x_purchase.replace(3, 0)\n",
    "x_purchase = x_purchase.replace(4, 0)\n",
    "x_purchase = x_purchase.replace(5, 0)\n",
    "x_purchase = x_purchase.replace(6, 0)\n"
   ]
  },
  {
   "cell_type": "markdown",
   "metadata": {},
   "source": [
    "#### normalize"
   ]
  },
  {
   "cell_type": "code",
   "execution_count": 103,
   "metadata": {},
   "outputs": [],
   "source": [
    "X= X_quant.replace(88, 18);\n"
   ]
  },
  {
   "cell_type": "code",
   "execution_count": 104,
   "metadata": {},
   "outputs": [],
   "source": [
    "X['x_education_of_family'] = x_education_all"
   ]
  },
  {
   "cell_type": "code",
   "execution_count": 105,
   "metadata": {},
   "outputs": [
    {
     "data": {
      "text/plain": [
       "2"
      ]
     },
     "execution_count": 105,
     "metadata": {},
     "output_type": "execute_result"
    }
   ],
   "source": [
    "len(X.columns)"
   ]
  },
  {
   "cell_type": "code",
   "execution_count": 106,
   "metadata": {},
   "outputs": [],
   "source": [
    "X=(X-X.mean())/X.std()\n"
   ]
  },
  {
   "cell_type": "code",
   "execution_count": 107,
   "metadata": {},
   "outputs": [
    {
     "name": "stdout",
     "output_type": "stream",
     "text": [
      "0.4484730410140931\n"
     ]
    }
   ],
   "source": [
    "x_work_sum= (x_work_sum >= 1).astype(int)\n",
    "print(np.mean(x_work_sum))"
   ]
  },
  {
   "cell_type": "code",
   "execution_count": 108,
   "metadata": {},
   "outputs": [
    {
     "name": "stdout",
     "output_type": "stream",
     "text": [
      "0.8519849201730638\n"
     ]
    }
   ],
   "source": [
    "x_natal_frequent = (x_natal_frequent <= 3).astype(int)\n",
    "print(np.mean(x_natal_frequent))"
   ]
  },
  {
   "cell_type": "code",
   "execution_count": 109,
   "metadata": {},
   "outputs": [
    {
     "name": "stdout",
     "output_type": "stream",
     "text": [
      "0.3950105002150646\n"
     ]
    }
   ],
   "source": [
    "x_contact_sum = (x_contact_sum > 1).astype(int)\n",
    "print(np.mean(x_contact_sum))"
   ]
  },
  {
   "cell_type": "code",
   "execution_count": 110,
   "metadata": {},
   "outputs": [
    {
     "name": "stdout",
     "output_type": "stream",
     "text": [
      "0.4552792045138274\n"
     ]
    }
   ],
   "source": [
    "x_visit_all = (x_visit_all > 3).astype(int)\n",
    "print(np.mean(x_visit_all))"
   ]
  },
  {
   "cell_type": "code",
   "execution_count": 111,
   "metadata": {},
   "outputs": [
    {
     "name": "stdout",
     "output_type": "stream",
     "text": [
      "0.08645598765275915\n"
     ]
    }
   ],
   "source": [
    "x_service_frequent = (x_service_frequent >1).astype(int)\n",
    "print(np.mean(x_service_frequent ))"
   ]
  },
  {
   "cell_type": "code",
   "execution_count": 115,
   "metadata": {},
   "outputs": [
    {
     "name": "stdout",
     "output_type": "stream",
     "text": [
      "0.21417908559572907\n"
     ]
    }
   ],
   "source": [
    "x_connecting_all = (x_connecting_all >1).astype(int)\n",
    "print(np.mean(x_connecting_all ))"
   ]
  },
  {
   "cell_type": "markdown",
   "metadata": {},
   "source": [
    "#### craete feature vector"
   ]
  },
  {
   "cell_type": "code",
   "execution_count": 122,
   "metadata": {},
   "outputs": [],
   "source": [
    "X['x_husband_contact'] = x_contact_sum\n",
    "X['x_working_freedom'] = x_work_sum\n",
    "X['x_financial_backing_wife'] = x_money_frequent\n",
    "X['x_freedom_to_travel'] = x_visit_all\n",
    "X['x_decision_household'] = x_decision_frequent\n",
    "X['x_discuss_family'] = x_discuss_frequent\n",
    "X['x_natal_closeness_and_health'] = x_natal_frequent\n",
    "X['x_connecting_outside'] = x_connecting_all\n",
    "X['x_pruchasing_power'] = x_purchase\n",
    "X['x_social_presence'] = x_service_frequent\n",
    "X['x_harassment_in_town'] = x_harass\n",
    "X['x_people_household'] = x_people_hh_all\n",
    "X['x_decision_regarding_children'] = x_children_decision_frequent\n"
   ]
  },
  {
   "cell_type": "code",
   "execution_count": 123,
   "metadata": {},
   "outputs": [],
   "source": [
    "p = len(X.columns)"
   ]
  },
  {
   "cell_type": "code",
   "execution_count": 124,
   "metadata": {},
   "outputs": [
    {
     "data": {
      "text/html": [
       "<div>\n",
       "<style scoped>\n",
       "    .dataframe tbody tr th:only-of-type {\n",
       "        vertical-align: middle;\n",
       "    }\n",
       "\n",
       "    .dataframe tbody tr th {\n",
       "        vertical-align: top;\n",
       "    }\n",
       "\n",
       "    .dataframe thead th {\n",
       "        text-align: right;\n",
       "    }\n",
       "</style>\n",
       "<table border=\"1\" class=\"dataframe\">\n",
       "  <thead>\n",
       "    <tr style=\"text-align: right;\">\n",
       "      <th></th>\n",
       "      <th>EQ26 18.1a Age at marriage</th>\n",
       "      <th>x_education_of_family</th>\n",
       "      <th>x_husband_contact</th>\n",
       "      <th>x_working_freedom</th>\n",
       "      <th>x_financial_backing_wife</th>\n",
       "      <th>x_freedom_to_travel</th>\n",
       "      <th>x_decision_household</th>\n",
       "      <th>x_discuss_family</th>\n",
       "      <th>x_natal_closeness_and_health</th>\n",
       "      <th>x_pruchasing_power</th>\n",
       "      <th>x_connecting_outside_world</th>\n",
       "      <th>x_harassment_in_town</th>\n",
       "      <th>x_people_household</th>\n",
       "      <th>x_decision_regarding_children</th>\n",
       "      <th>x_connecting_outside</th>\n",
       "      <th>x_social_presence</th>\n",
       "    </tr>\n",
       "  </thead>\n",
       "  <tbody>\n",
       "    <tr>\n",
       "      <th>0</th>\n",
       "      <td>-2.130681</td>\n",
       "      <td>-0.656141</td>\n",
       "      <td>1</td>\n",
       "      <td>1</td>\n",
       "      <td>0.0</td>\n",
       "      <td>1</td>\n",
       "      <td>1.0</td>\n",
       "      <td>1.0</td>\n",
       "      <td>1</td>\n",
       "      <td>0</td>\n",
       "      <td>0</td>\n",
       "      <td>1</td>\n",
       "      <td>0</td>\n",
       "      <td>0.0</td>\n",
       "      <td>0</td>\n",
       "      <td>0</td>\n",
       "    </tr>\n",
       "    <tr>\n",
       "      <th>1</th>\n",
       "      <td>0.019682</td>\n",
       "      <td>0.439868</td>\n",
       "      <td>1</td>\n",
       "      <td>1</td>\n",
       "      <td>0.0</td>\n",
       "      <td>1</td>\n",
       "      <td>0.0</td>\n",
       "      <td>1.0</td>\n",
       "      <td>1</td>\n",
       "      <td>1</td>\n",
       "      <td>0</td>\n",
       "      <td>1</td>\n",
       "      <td>2</td>\n",
       "      <td>0.0</td>\n",
       "      <td>0</td>\n",
       "      <td>0</td>\n",
       "    </tr>\n",
       "    <tr>\n",
       "      <th>2</th>\n",
       "      <td>0.557273</td>\n",
       "      <td>0.439868</td>\n",
       "      <td>1</td>\n",
       "      <td>0</td>\n",
       "      <td>1.0</td>\n",
       "      <td>0</td>\n",
       "      <td>1.0</td>\n",
       "      <td>1.0</td>\n",
       "      <td>1</td>\n",
       "      <td>0</td>\n",
       "      <td>0</td>\n",
       "      <td>1</td>\n",
       "      <td>1</td>\n",
       "      <td>1.0</td>\n",
       "      <td>0</td>\n",
       "      <td>0</td>\n",
       "    </tr>\n",
       "    <tr>\n",
       "      <th>3</th>\n",
       "      <td>0.557273</td>\n",
       "      <td>-0.656141</td>\n",
       "      <td>0</td>\n",
       "      <td>1</td>\n",
       "      <td>0.0</td>\n",
       "      <td>1</td>\n",
       "      <td>1.0</td>\n",
       "      <td>0.0</td>\n",
       "      <td>1</td>\n",
       "      <td>0</td>\n",
       "      <td>0</td>\n",
       "      <td>1</td>\n",
       "      <td>0</td>\n",
       "      <td>1.0</td>\n",
       "      <td>0</td>\n",
       "      <td>0</td>\n",
       "    </tr>\n",
       "    <tr>\n",
       "      <th>4</th>\n",
       "      <td>1.094864</td>\n",
       "      <td>-1.094545</td>\n",
       "      <td>1</td>\n",
       "      <td>1</td>\n",
       "      <td>0.0</td>\n",
       "      <td>1</td>\n",
       "      <td>1.0</td>\n",
       "      <td>0.0</td>\n",
       "      <td>1</td>\n",
       "      <td>0</td>\n",
       "      <td>0</td>\n",
       "      <td>1</td>\n",
       "      <td>0</td>\n",
       "      <td>1.0</td>\n",
       "      <td>0</td>\n",
       "      <td>0</td>\n",
       "    </tr>\n",
       "  </tbody>\n",
       "</table>\n",
       "</div>"
      ],
      "text/plain": [
       "   EQ26 18.1a Age at marriage  x_education_of_family  x_husband_contact  \\\n",
       "0                   -2.130681              -0.656141                  1   \n",
       "1                    0.019682               0.439868                  1   \n",
       "2                    0.557273               0.439868                  1   \n",
       "3                    0.557273              -0.656141                  0   \n",
       "4                    1.094864              -1.094545                  1   \n",
       "\n",
       "   x_working_freedom  x_financial_backing_wife  x_freedom_to_travel  \\\n",
       "0                  1                       0.0                    1   \n",
       "1                  1                       0.0                    1   \n",
       "2                  0                       1.0                    0   \n",
       "3                  1                       0.0                    1   \n",
       "4                  1                       0.0                    1   \n",
       "\n",
       "   x_decision_household  x_discuss_family  x_natal_closeness_and_health  \\\n",
       "0                   1.0               1.0                             1   \n",
       "1                   0.0               1.0                             1   \n",
       "2                   1.0               1.0                             1   \n",
       "3                   1.0               0.0                             1   \n",
       "4                   1.0               0.0                             1   \n",
       "\n",
       "   x_pruchasing_power  x_connecting_outside_world  x_harassment_in_town  \\\n",
       "0                   0                           0                     1   \n",
       "1                   1                           0                     1   \n",
       "2                   0                           0                     1   \n",
       "3                   0                           0                     1   \n",
       "4                   0                           0                     1   \n",
       "\n",
       "   x_people_household  x_decision_regarding_children  x_connecting_outside  \\\n",
       "0                   0                            0.0                     0   \n",
       "1                   2                            0.0                     0   \n",
       "2                   1                            1.0                     0   \n",
       "3                   0                            1.0                     0   \n",
       "4                   0                            1.0                     0   \n",
       "\n",
       "   x_social_presence  \n",
       "0                  0  \n",
       "1                  0  \n",
       "2                  0  \n",
       "3                  0  \n",
       "4                  0  "
      ]
     },
     "execution_count": 124,
     "metadata": {},
     "output_type": "execute_result"
    }
   ],
   "source": [
    "X.head()"
   ]
  },
  {
   "cell_type": "markdown",
   "metadata": {},
   "source": [
    "#### test train split"
   ]
  },
  {
   "cell_type": "code",
   "execution_count": 125,
   "metadata": {},
   "outputs": [],
   "source": [
    "def test_train_split(X,Y,n_split):\n",
    "    X_train, X_test, Y_train, Y_test = train_test_split(X,Y,  test_size = n_split)\n",
    "    return(X_train, X_test, Y_train, Y_test)"
   ]
  },
  {
   "cell_type": "code",
   "execution_count": 126,
   "metadata": {},
   "outputs": [],
   "source": [
    "def check_acc(clf, x_test, y_test):\n",
    "    acc = accuracy_score(y_test, clf.predict(x_test));\n",
    "#     print(\"Accuracy: \", acc)\n",
    "    return acc"
   ]
  },
  {
   "cell_type": "markdown",
   "metadata": {},
   "source": [
    "#### Random Forest"
   ]
  },
  {
   "cell_type": "markdown",
   "metadata": {},
   "source": [
    "#### 2p"
   ]
  },
  {
   "cell_type": "code",
   "execution_count": 127,
   "metadata": {},
   "outputs": [],
   "source": [
    "lambda_parameter = 10.0**np.arange(-3, 3,0.6)\n"
   ]
  },
  {
   "cell_type": "code",
   "execution_count": 128,
   "metadata": {},
   "outputs": [
    {
     "data": {
      "text/plain": [
       "array([1.00000000e-03, 3.98107171e-03, 1.58489319e-02, 6.30957344e-02,\n",
       "       2.51188643e-01, 1.00000000e+00, 3.98107171e+00, 1.58489319e+01,\n",
       "       6.30957344e+01, 2.51188643e+02])"
      ]
     },
     "execution_count": 128,
     "metadata": {},
     "output_type": "execute_result"
    }
   ],
   "source": [
    "lambda_parameter"
   ]
  },
  {
   "cell_type": "markdown",
   "metadata": {},
   "source": [
    "#### 10 fold cv for 2p"
   ]
  },
  {
   "cell_type": "code",
   "execution_count": 129,
   "metadata": {},
   "outputs": [],
   "source": [
    "clf_cv = LogisticRegressionCV(Cs = lambda_parameter, cv = 3, penalty='l2' )#"
   ]
  },
  {
   "cell_type": "code",
   "execution_count": 131,
   "metadata": {},
   "outputs": [],
   "source": [
    "from sklearn.cross_validation import KFold\n",
    "\n",
    "def xValLogistic(dataset_x, dataset_y, k, cs):\n",
    "    cv = KFold(n = dataset_x.shape[0], n_folds = k)\n",
    "    train_acc = {}\n",
    "    val_acc = {}\n",
    "    for c in cs:\n",
    "        train_acc[c] = [];\n",
    "        val_acc[c] = [];\n",
    "    \n",
    "    for train_idx, test_idx in cv:\n",
    "        train_x = dataset_x.iloc[train_idx]\n",
    "        train_y = dataset_y.iloc[train_idx]\n",
    "        test_x = dataset_x.iloc[test_idx]    \n",
    "        test_y = dataset_y.iloc[test_idx]\n",
    "        \n",
    "        for c in cs:\n",
    "            clf = LogisticRegression(penalty='l2', C = 1/c)\n",
    "            clf.fit(train_x, train_y)\n",
    "            train_score =1-check_acc(clf, train_x, train_y)\n",
    "            val_score =1-check_acc(clf, test_x, test_y)\n",
    "            train_acc[c].append(train_score)\n",
    "            val_acc[c].append(val_score)\n",
    "        \n",
    "    \n",
    "    best_c = 0;\n",
    "    best_val = float('inf');\n",
    "    train_list = np.zeros(len(cs));\n",
    "    val_list = np.zeros(len(cs));\n",
    "    for i, c in enumerate(cs):\n",
    "        train_list[i] = np.mean(train_acc[c]);\n",
    "        val_list[i] = np.mean(val_acc[c]);\n",
    "        if best_val > val_list[i]:\n",
    "            best_val = val_list[i];\n",
    "            best_c = c;\n",
    "    \n",
    "            \n",
    "    return train_list, val_list, best_c\n",
    "    \n",
    "            \n"
   ]
  },
  {
   "cell_type": "code",
   "execution_count": null,
   "metadata": {},
   "outputs": [],
   "source": [
    "def xValrandom_forest(dataset_x, dataset_y, k):\n",
    "    cv = KFold(n = dataset_x.shape[0], n_folds = k)\n",
    "    train_acc = []\n",
    "    val_acc = []\n",
    "\n",
    "    \n",
    "    for train_idx, test_idx in cv:\n",
    "        train_x = dataset_x.iloc[train_idx]\n",
    "        train_y = dataset_y.iloc[train_idx]\n",
    "        test_x = dataset_x.iloc[test_idx]    \n",
    "        test_y = dataset_y.iloc[test_idx]\n",
    "        \n",
    "        clf = RandomForestClassifier(5)\n",
    "        clf.fit(train_x, train_y)\n",
    "        train_score =1-check_acc(clf, train_x, train_y)\n",
    "        val_score =1-check_acc(clf, test_x, test_y)\n",
    "        train_acc.append(train_score)\n",
    "        val_acc.append(val_score)\n",
    "\n",
    "\n",
    "            \n",
    "    return np.mean(val_acc)"
   ]
  },
  {
   "cell_type": "code",
   "execution_count": null,
   "metadata": {},
   "outputs": [],
   "source": [
    "def xVallogistic_regression(dataset_x, dataset_y, k):\n",
    "    cv = KFold(n = dataset_x.shape[0], n_folds = k)\n",
    "    train_acc = []\n",
    "    val_acc = []\n",
    "\n",
    "    \n",
    "    for train_idx, test_idx in cv:\n",
    "        train_x = dataset_x.iloc[train_idx]\n",
    "        train_y = dataset_y.iloc[train_idx]\n",
    "        test_x = dataset_x.iloc[test_idx]    \n",
    "        test_y = dataset_y.iloc[test_idx]\n",
    "        \n",
    "        clf = LogisticRegression()\n",
    "        clf.fit(train_x, train_y)\n",
    "        train_score =1-check_acc(clf, train_x, train_y)\n",
    "        val_score =1-check_acc(clf, test_x, test_y)\n",
    "        train_acc.append(train_score)\n",
    "        val_acc.append(val_score)\n",
    "\n",
    "\n",
    "    \n",
    "            \n",
    "    return np.mean(val_acc)"
   ]
  },
  {
   "cell_type": "code",
   "execution_count": 217,
   "metadata": {},
   "outputs": [],
   "source": [
    "def xValLogistic_lasso(dataset_x, dataset_y, k, cs):\n",
    "    cv = KFold(n = dataset_x.shape[0], n_folds = k)\n",
    "    train_acc = {}\n",
    "    val_acc = {}\n",
    "    for c in cs:\n",
    "        train_acc[c] = [];\n",
    "        val_acc[c] = [];\n",
    "    \n",
    "    for train_idx, test_idx in cv:\n",
    "        train_x = dataset_x.iloc[train_idx]\n",
    "        train_y = dataset_y.iloc[train_idx]\n",
    "        test_x = dataset_x.iloc[test_idx]    \n",
    "        test_y = dataset_y.iloc[test_idx]\n",
    "        \n",
    "        for c in cs:\n",
    "            clf = LogisticRegression(penalty='l1', C = 1/c)\n",
    "            clf.fit(train_x, train_y)\n",
    "            train_score =1- check_acc(clf, train_x, train_y)\n",
    "            val_score =1- check_acc(clf, test_x, test_y)\n",
    "            train_acc[c].append(train_score)\n",
    "            val_acc[c].append(val_score)\n",
    "\n",
    "    \n",
    "    best_c = 0;\n",
    "    best_val = float('inf');\n",
    "    train_list = np.zeros(len(cs));\n",
    "    val_list = np.zeros(len(cs));\n",
    "    for i, c in enumerate(cs):\n",
    "        train_list[i] = np.mean(train_acc[c]);\n",
    "        val_list[i] = np.mean(val_acc[c]);\n",
    "        if best_val > val_list[i]:\n",
    "            best_val = val_list[i];\n",
    "            best_c = c;\n",
    "    \n",
    "            \n",
    "    return train_list, val_list, best_c    \n",
    "            \n"
   ]
  },
  {
   "cell_type": "code",
   "execution_count": 220,
   "metadata": {},
   "outputs": [],
   "source": [
    "def plot_cross_val(X,response, split):\n",
    "    train_features,test_features,train_labels,test_labels= test_train_split(X,response, split)\n",
    "    train_acc, val_acc, best_c1 = xValLogistic(train_features,train_labels,10,lambda_parameter)\n",
    "    train_acc2, val_acc2,best_c2 = xValLogistic_lasso(train_features,train_labels,10,lambda_parameter)\n",
    "    return(best_c1,best_c2)"
   ]
  },
  {
   "cell_type": "code",
   "execution_count": 221,
   "metadata": {},
   "outputs": [],
   "source": [
    "y1,y2=plot_cross_val(X,response, 0.2)"
   ]
  },
  {
   "cell_type": "code",
   "execution_count": 227,
   "metadata": {},
   "outputs": [],
   "source": [
    "def feature_imp(X,response, split,k1,k2):\n",
    "    x_train,x_test,y_train,y_test= test_train_split(X,response,split)\n",
    "    \n",
    "    clf = LogisticRegression(penalty='l2', C = 1/k1)\n",
    "    clf.fit(x_train, y_train)\n",
    "    logreg_weight1 = np.abs(clf.coef_[0]);\n",
    "    logreg_weight1 /= np.sum(logreg_weight1)\n",
    "        \n",
    "    clf3 = LogisticRegression()\n",
    "    clf3.fit(x_train, y_train)\n",
    "    logreg_weight2 = np.abs(clf3.coef_[0]);\n",
    "    logreg_weight2 /= np.sum(logreg_weight2)\n",
    "    \n",
    "    clf4 = RandomForestClassifier(1)\n",
    "    clf4.fit(x_train, y_train)\n",
    "    logreg_weight3 = clf4.feature_importances_\n",
    "    logreg_weight3 /= np.sum(logreg_weight3)\n",
    "    \n",
    "    fig, ax = plt.subplots(nrows=1, ncols=3, figsize=(20, 10), sharex=True, sharey=True)    \n",
    "\n",
    "    feature_importance_plot(ax[0], logreg_weight1)\n",
    "    feature_importance_plot(ax[1], logreg_weight2)\n",
    "    feature_importance_plot(ax[2], logreg_weight3)\n",
    "        \n",
    "    \n",
    "    plt.sca(ax[0])\n",
    "    plt.yticks(range(len(X.columns)), X.columns)\n",
    "    \n",
    "    return(logreg_weight1,logreg_weight2,logreg_weight3)"
   ]
  },
  {
   "cell_type": "code",
   "execution_count": 228,
   "metadata": {
    "scrolled": true
   },
   "outputs": [
    {
     "data": {
      "image/png": "[encoded data removed]",
      "text/plain": [
       "<matplotlib.figure.Figure at 0x1c4c25ff5c0>"
      ]
     },
     "metadata": {},
     "output_type": "display_data"
    }
   ],
   "source": [
    "w1,w2,w3=feature_imp(X,response,0.2,y1,y2)"
   ]
  },
  {
   "cell_type": "code",
   "execution_count": 226,
   "metadata": {},
   "outputs": [],
   "source": [
    "def feature_importance_plot(ax, importance):\n",
    "\n",
    "#     plt.title('Feature Importances')\n",
    "    ax.barh(range(len(importance)), importance, color='b', align='center')\n",
    "#     ax.yticks(range(len(features)), features)\n",
    "#     plt.xlabel('Relative Importance')\n",
    "    "
   ]
  },
  {
   "cell_type": "code",
   "execution_count": null,
   "metadata": {},
   "outputs": [],
   "source": []
  },
  {
   "cell_type": "code",
   "execution_count": null,
   "metadata": {},
   "outputs": [],
   "source": []
  },
  {
   "cell_type": "code",
   "execution_count": null,
   "metadata": {},
   "outputs": [],
   "source": [
    "\n"
   ]
  }
 ],
 "metadata": {
  "kernelspec": {
   "display_name": "Python 3",
   "language": "python",
   "name": "python3"
  },
  "language_info": {
   "codemirror_mode": {
    "name": "ipython",
    "version": 3
   },
   "file_extension": ".py",
   "mimetype": "text/x-python",
   "name": "python",
   "nbconvert_exporter": "python",
   "pygments_lexer": "ipython3",
   "version": "3.6.4"
  }
 },
 "nbformat": 4,
 "nbformat_minor": 2
}
